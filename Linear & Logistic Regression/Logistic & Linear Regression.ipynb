{
 "cells": [
  {
   "cell_type": "markdown",
   "id": "41bfb556",
   "metadata": {},
   "source": [
    "# Linear Regression  "
   ]
  },
  {
   "cell_type": "code",
   "execution_count": 1,
   "id": "63dd4f8e",
   "metadata": {},
   "outputs": [
    {
     "name": "stdout",
     "output_type": "stream",
     "text": [
      "[ 3.  5.  7.  9. 11.]\n"
     ]
    }
   ],
   "source": [
    "from sklearn.linear_model import LinearRegression\n",
    "import numpy as np\n",
    "\n",
    "# Input data\n",
    "x = np.array([1, 2, 3, 4, 5]).reshape(-1, 1)\n",
    "y = np.array([3, 5, 7, 9, 11])\n",
    "\n",
    "# Create the linear regression model\n",
    "model = LinearRegression().fit(x, y)\n",
    "\n",
    "# Make predictions\n",
    "y_pred = model.predict(x)\n",
    "\n",
    "print(y_pred)"
   ]
  },
  {
   "cell_type": "markdown",
   "id": "21c36f6b",
   "metadata": {},
   "source": [
    "Linear Regression is a linear approach to model the relationship between a dependent variable and one or more independent variables by fitting a best line. It is used to predict a continuous target variable.\n",
    "Here is an example of a simple linear regression in Python using the scikit-learn library:"
   ]
  },
  {
   "cell_type": "markdown",
   "id": "d7482ab8",
   "metadata": {},
   "source": [
    "# Logistic Regression "
   ]
  },
  {
   "cell_type": "code",
   "execution_count": 3,
   "id": "23f4d2f5",
   "metadata": {},
   "outputs": [
    {
     "name": "stdout",
     "output_type": "stream",
     "text": [
      "[0 0 1 1]\n"
     ]
    }
   ],
   "source": [
    "from sklearn.linear_model import LogisticRegression\n",
    "import numpy as np\n",
    "\n",
    "# Input data\n",
    "x = np.array([[1, 2], [3, 4], [5, 6], [7, 8]])\n",
    "y = np.array([0, 1, 0, 1])\n",
    "\n",
    "# Create the logistic regression model\n",
    "model = LogisticRegression().fit(x, y)\n",
    "\n",
    "# Make predictions\n",
    "y_pred = model.predict(x)\n",
    "\n",
    "print(y_pred)\n",
    "\n",
    "\n"
   ]
  },
  {
   "cell_type": "markdown",
   "id": "c9de9fdc",
   "metadata": {},
   "source": [
    "Logistic Regression, on the other hand, is a type of generalized linear model that is used to model binary outcome (dependent variable) with one or more predictor variables (independent variables). It is used to predict a discrete target variable, usually in a binary format (0 or 1, True or False, etc.).\n",
    "Here is an example of a simple logistic regression in Python using the scikit-learn library:"
   ]
  },
  {
   "cell_type": "code",
   "execution_count": null,
   "id": "524bced2",
   "metadata": {},
   "outputs": [],
   "source": []
  }
 ],
 "metadata": {
  "kernelspec": {
   "display_name": "Python 3 (ipykernel)",
   "language": "python",
   "name": "python3"
  },
  "language_info": {
   "codemirror_mode": {
    "name": "ipython",
    "version": 3
   },
   "file_extension": ".py",
   "mimetype": "text/x-python",
   "name": "python",
   "nbconvert_exporter": "python",
   "pygments_lexer": "ipython3",
   "version": "3.9.13"
  }
 },
 "nbformat": 4,
 "nbformat_minor": 5
}
