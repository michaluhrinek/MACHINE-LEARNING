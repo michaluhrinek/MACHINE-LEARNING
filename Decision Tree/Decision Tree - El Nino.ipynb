{
 "cells": [
  {
   "cell_type": "markdown",
   "id": "40b8aec6",
   "metadata": {},
   "source": [
    "# EL NINO - DECISION TREE - Machine Learning "
   ]
  },
  {
   "cell_type": "code",
   "execution_count": 19,
   "id": "e16e5d9a",
   "metadata": {},
   "outputs": [
    {
     "name": "stdout",
     "output_type": "stream",
     "text": [
      "Requirement already satisfied: scikit-learn in d:\\anaconda\\lib\\site-packages (1.0.2)Note: you may need to restart the kernel to use updated packages.\n",
      "\n",
      "Requirement already satisfied: joblib>=0.11 in d:\\anaconda\\lib\\site-packages (from scikit-learn) (1.1.0)\n",
      "Requirement already satisfied: scipy>=1.1.0 in d:\\anaconda\\lib\\site-packages (from scikit-learn) (1.9.1)\n",
      "Requirement already satisfied: numpy>=1.14.6 in d:\\anaconda\\lib\\site-packages (from scikit-learn) (1.21.5)\n",
      "Requirement already satisfied: threadpoolctl>=2.0.0 in d:\\anaconda\\lib\\site-packages (from scikit-learn) (2.2.0)\n"
     ]
    }
   ],
   "source": [
    "pip install scikit-learn"
   ]
  },
  {
   "cell_type": "code",
   "execution_count": 20,
   "id": "bb88d391",
   "metadata": {},
   "outputs": [],
   "source": [
    "import csv\n",
    "from sklearn.tree import DecisionTreeClassifier\n",
    "import numpy as np"
   ]
  },
  {
   "cell_type": "code",
   "execution_count": 21,
   "id": "5d739c90",
   "metadata": {},
   "outputs": [],
   "source": [
    "import pandas as pd\n",
    "from sklearn.model_selection import train_test_split\n",
    "from sklearn.tree import DecisionTreeClassifier\n",
    "from sklearn.metrics import accuracy_score"
   ]
  },
  {
   "cell_type": "code",
   "execution_count": 22,
   "id": "fec40468",
   "metadata": {},
   "outputs": [],
   "source": [
    "# Replace 'file_path' with the actual file path to your CSV file\n",
    "file_path = r'C:\\Users\\User\\Downloads\\elnino_data2.csv'"
   ]
  },
  {
   "cell_type": "code",
   "execution_count": 23,
   "id": "28ed25b1",
   "metadata": {},
   "outputs": [],
   "source": [
    "# Read the CSV file into a DataFrame\n",
    "df = pd.read_csv(file_path)"
   ]
  },
  {
   "cell_type": "code",
   "execution_count": 24,
   "id": "ec8cade0",
   "metadata": {},
   "outputs": [
    {
     "data": {
      "text/html": [
       "<div>\n",
       "<style scoped>\n",
       "    .dataframe tbody tr th:only-of-type {\n",
       "        vertical-align: middle;\n",
       "    }\n",
       "\n",
       "    .dataframe tbody tr th {\n",
       "        vertical-align: top;\n",
       "    }\n",
       "\n",
       "    .dataframe thead th {\n",
       "        text-align: right;\n",
       "    }\n",
       "</style>\n",
       "<table border=\"1\" class=\"dataframe\">\n",
       "  <thead>\n",
       "    <tr style=\"text-align: right;\">\n",
       "      <th></th>\n",
       "      <th>Date</th>\n",
       "      <th>Year</th>\n",
       "      <th>Month</th>\n",
       "      <th>Season</th>\n",
       "      <th>ONI</th>\n",
       "      <th>NINO 1+2 SST</th>\n",
       "      <th>NINO 1+2 SST Anomalies</th>\n",
       "      <th>NINO 3 SST</th>\n",
       "      <th>NINO 3 SST Anomalies</th>\n",
       "      <th>NINO 3.4 SST</th>\n",
       "      <th>NINO 3.4 SST Anomalies</th>\n",
       "      <th>NINO 4 SST</th>\n",
       "      <th>NINO 4 SST Anomalies</th>\n",
       "      <th>OLR</th>\n",
       "      <th>TNI</th>\n",
       "      <th>PNA</th>\n",
       "      <th>Precipitation (mm/day)</th>\n",
       "      <th>SOI</th>\n",
       "      <th>el_nino</th>\n",
       "    </tr>\n",
       "  </thead>\n",
       "  <tbody>\n",
       "    <tr>\n",
       "      <th>0</th>\n",
       "      <td>1/1/1951</td>\n",
       "      <td>1951</td>\n",
       "      <td>JAN</td>\n",
       "      <td>DJF 1951</td>\n",
       "      <td>-0.8</td>\n",
       "      <td>0.0</td>\n",
       "      <td>0.0</td>\n",
       "      <td>0.0</td>\n",
       "      <td>0.0</td>\n",
       "      <td>0.0</td>\n",
       "      <td>0.0</td>\n",
       "      <td>0.0</td>\n",
       "      <td>0.0</td>\n",
       "      <td>0.0</td>\n",
       "      <td>1.32</td>\n",
       "      <td>-1.18</td>\n",
       "      <td>0.0</td>\n",
       "      <td>1.5</td>\n",
       "      <td>No</td>\n",
       "    </tr>\n",
       "    <tr>\n",
       "      <th>1</th>\n",
       "      <td>2/1/1951</td>\n",
       "      <td>1951</td>\n",
       "      <td>FEB</td>\n",
       "      <td>JFM 1951</td>\n",
       "      <td>-0.5</td>\n",
       "      <td>0.0</td>\n",
       "      <td>0.0</td>\n",
       "      <td>0.0</td>\n",
       "      <td>0.0</td>\n",
       "      <td>0.0</td>\n",
       "      <td>0.0</td>\n",
       "      <td>0.0</td>\n",
       "      <td>0.0</td>\n",
       "      <td>0.0</td>\n",
       "      <td>1.46</td>\n",
       "      <td>-2.11</td>\n",
       "      <td>0.0</td>\n",
       "      <td>0.9</td>\n",
       "      <td>No</td>\n",
       "    </tr>\n",
       "    <tr>\n",
       "      <th>2</th>\n",
       "      <td>3/1/1951</td>\n",
       "      <td>1951</td>\n",
       "      <td>MAR</td>\n",
       "      <td>FMA 1951</td>\n",
       "      <td>-0.2</td>\n",
       "      <td>0.0</td>\n",
       "      <td>0.0</td>\n",
       "      <td>0.0</td>\n",
       "      <td>0.0</td>\n",
       "      <td>0.0</td>\n",
       "      <td>0.0</td>\n",
       "      <td>0.0</td>\n",
       "      <td>0.0</td>\n",
       "      <td>0.0</td>\n",
       "      <td>1.59</td>\n",
       "      <td>-1.09</td>\n",
       "      <td>0.0</td>\n",
       "      <td>-0.1</td>\n",
       "      <td>No</td>\n",
       "    </tr>\n",
       "    <tr>\n",
       "      <th>3</th>\n",
       "      <td>4/1/1951</td>\n",
       "      <td>1951</td>\n",
       "      <td>APR</td>\n",
       "      <td>MAM 1951</td>\n",
       "      <td>0.2</td>\n",
       "      <td>0.0</td>\n",
       "      <td>0.0</td>\n",
       "      <td>0.0</td>\n",
       "      <td>0.0</td>\n",
       "      <td>0.0</td>\n",
       "      <td>0.0</td>\n",
       "      <td>0.0</td>\n",
       "      <td>0.0</td>\n",
       "      <td>0.0</td>\n",
       "      <td>1.46</td>\n",
       "      <td>0.47</td>\n",
       "      <td>0.0</td>\n",
       "      <td>-0.3</td>\n",
       "      <td>No</td>\n",
       "    </tr>\n",
       "    <tr>\n",
       "      <th>4</th>\n",
       "      <td>5/1/1951</td>\n",
       "      <td>1951</td>\n",
       "      <td>MAY</td>\n",
       "      <td>AMJ 1951</td>\n",
       "      <td>0.4</td>\n",
       "      <td>0.0</td>\n",
       "      <td>0.0</td>\n",
       "      <td>0.0</td>\n",
       "      <td>0.0</td>\n",
       "      <td>0.0</td>\n",
       "      <td>0.0</td>\n",
       "      <td>0.0</td>\n",
       "      <td>0.0</td>\n",
       "      <td>0.0</td>\n",
       "      <td>1.62</td>\n",
       "      <td>1.19</td>\n",
       "      <td>0.0</td>\n",
       "      <td>-0.7</td>\n",
       "      <td>No</td>\n",
       "    </tr>\n",
       "  </tbody>\n",
       "</table>\n",
       "</div>"
      ],
      "text/plain": [
       "       Date  Year Month    Season  ONI  NINO 1+2 SST  NINO 1+2 SST Anomalies  \\\n",
       "0  1/1/1951  1951   JAN  DJF 1951 -0.8           0.0                     0.0   \n",
       "1  2/1/1951  1951   FEB  JFM 1951 -0.5           0.0                     0.0   \n",
       "2  3/1/1951  1951   MAR  FMA 1951 -0.2           0.0                     0.0   \n",
       "3  4/1/1951  1951   APR  MAM 1951  0.2           0.0                     0.0   \n",
       "4  5/1/1951  1951   MAY  AMJ 1951  0.4           0.0                     0.0   \n",
       "\n",
       "   NINO 3 SST  NINO 3 SST Anomalies  NINO 3.4 SST  NINO 3.4 SST Anomalies  \\\n",
       "0         0.0                   0.0           0.0                     0.0   \n",
       "1         0.0                   0.0           0.0                     0.0   \n",
       "2         0.0                   0.0           0.0                     0.0   \n",
       "3         0.0                   0.0           0.0                     0.0   \n",
       "4         0.0                   0.0           0.0                     0.0   \n",
       "\n",
       "   NINO 4 SST  NINO 4 SST Anomalies  OLR   TNI   PNA  Precipitation (mm/day)  \\\n",
       "0         0.0                   0.0  0.0  1.32 -1.18                     0.0   \n",
       "1         0.0                   0.0  0.0  1.46 -2.11                     0.0   \n",
       "2         0.0                   0.0  0.0  1.59 -1.09                     0.0   \n",
       "3         0.0                   0.0  0.0  1.46  0.47                     0.0   \n",
       "4         0.0                   0.0  0.0  1.62  1.19                     0.0   \n",
       "\n",
       "   SOI el_nino  \n",
       "0  1.5      No  \n",
       "1  0.9      No  \n",
       "2 -0.1      No  \n",
       "3 -0.3      No  \n",
       "4 -0.7      No  "
      ]
     },
     "execution_count": 24,
     "metadata": {},
     "output_type": "execute_result"
    }
   ],
   "source": [
    "df.head()"
   ]
  },
  {
   "cell_type": "code",
   "execution_count": 38,
   "id": "be745dee",
   "metadata": {},
   "outputs": [],
   "source": [
    "# Load the data from the CSV file into a DataFrame\n",
    "file_path = 'C:/Users/User/Downloads/elnino_data2.csv'\n",
    "df = pd.read_csv(file_path)"
   ]
  },
  {
   "cell_type": "code",
   "execution_count": 46,
   "id": "1f859e82",
   "metadata": {},
   "outputs": [],
   "source": [
    "# Convert the 'Date' column to a pandas datetime object\n",
    "df['Date'] = pd.to_datetime(df['Date'])"
   ]
  },
  {
   "cell_type": "code",
   "execution_count": 47,
   "id": "b3a004c9",
   "metadata": {},
   "outputs": [],
   "source": [
    "# Extract the year and month from the 'Date' column and create new features\n",
    "df['Year'] = df['Date'].dt.year\n",
    "df['Month'] = df['Date'].dt.month"
   ]
  },
  {
   "cell_type": "code",
   "execution_count": 48,
   "id": "661f4a89",
   "metadata": {},
   "outputs": [],
   "source": [
    "# Perform one-hot encoding for the 'Season' column\n",
    "df = pd.get_dummies(df, columns=['Season'], drop_first=True)"
   ]
  },
  {
   "cell_type": "markdown",
   "id": "4ba830fc",
   "metadata": {},
   "source": [
    "The code pd.get_dummies(df, columns=['Season'], drop_first=True) performs one-hot encoding for the 'Season' column in the DataFrame df.\n",
    "\n",
    "One-hot encoding is a process of converting categorical variables into a binary vector representation for machine learning algorithms to work with them more effectively. In this case, the 'Season' \n",
    "column contains categorical data with different seasons like 'DJF', 'MAM', 'JJA', and 'SON'."
   ]
  },
  {
   "cell_type": "code",
   "execution_count": 49,
   "id": "9f3fbff6",
   "metadata": {},
   "outputs": [],
   "source": [
    "# Separate the features (X) and the target variable (y)\n",
    "X = df.drop(['Date', 'el_nino'], axis=1)  # Exclude 'Date' and the target 'el_nino'\n",
    "y = df['el_nino']"
   ]
  },
  {
   "cell_type": "markdown",
   "id": "5c23f0a4",
   "metadata": {},
   "source": [
    "    df.drop(['Date', 'el_nino'], axis=1): This creates a new DataFrame X that contains all the columns of the original DataFrame df except for the 'Date' column and the target variable 'el_nino'. The axis=1 argument specifies that we want to drop columns, not rows.\n",
    "\n",
    "    df['el_nino']: This creates a new Series y that contains the values of the 'el_nino' column from the original DataFrame df. This is the target variable that we want to predict using the features in X.\n",
    "\n",
    "In summary, the code separates the features (independent variables) into X and the target variable (dependent variable) into y, so we can use them to train a machine learning model. X will be used as input features, and y will be used as the target variable for the prediction task.\n"
   ]
  },
  {
   "cell_type": "code",
   "execution_count": 50,
   "id": "0152bd59",
   "metadata": {},
   "outputs": [],
   "source": [
    "# Split the data into training (80%) and testing (20%) sets\n",
    "X_train, X_test, y_train, y_test = train_test_split(X, y, test_size=0.2, random_state=42)\n",
    "\n",
    "# Initialize the Decision Tree classifier\n",
    "clf = DecisionTreeClassifier(random_state=42)\n"
   ]
  },
  {
   "cell_type": "markdown",
   "id": "e68aedd8",
   "metadata": {},
   "source": [
    "In summary, this code prepares the data for training and testing by splitting it into training and testing sets (80% training, 20% testing) and initializes a Decision Tree classifier model for later use in the classification task."
   ]
  },
  {
   "cell_type": "code",
   "execution_count": 51,
   "id": "62b1c3f6",
   "metadata": {},
   "outputs": [],
   "source": [
    "# Train the Decision Tree classifier on the training data\n",
    "clf.fit(X_train, y_train)\n",
    "\n",
    "# Make predictions on the test data\n",
    "y_pred = clf.predict(X_test)"
   ]
  },
  {
   "cell_type": "code",
   "execution_count": 52,
   "id": "1c4147c5",
   "metadata": {},
   "outputs": [
    {
     "name": "stdout",
     "output_type": "stream",
     "text": [
      "Accuracy: 0.8265895953757225\n"
     ]
    }
   ],
   "source": [
    "# Calculate the accuracy of the model\n",
    "accuracy = accuracy_score(y_test, y_pred)\n",
    "print(\"Accuracy:\", accuracy)"
   ]
  },
  {
   "cell_type": "markdown",
   "id": "33924f63",
   "metadata": {},
   "source": [
    "# Calculation of Precision, Recall, F1 Score"
   ]
  },
  {
   "cell_type": "code",
   "execution_count": 54,
   "id": "2bf0403e",
   "metadata": {},
   "outputs": [
    {
     "data": {
      "text/plain": [
       "DecisionTreeClassifier()"
      ]
     },
     "execution_count": 54,
     "metadata": {},
     "output_type": "execute_result"
    }
   ],
   "source": [
    "from sklearn.tree import DecisionTreeClassifier\n",
    "\n",
    "# Assuming you already have the training data (X_train and y_train) from the previous code\n",
    "\n",
    "# Create a Decision Tree classifier\n",
    "model = DecisionTreeClassifier()\n",
    "\n",
    "# Train the model on the training data\n",
    "model.fit(X_train, y_train)\n"
   ]
  },
  {
   "cell_type": "code",
   "execution_count": 56,
   "id": "9247bec8",
   "metadata": {},
   "outputs": [
    {
     "name": "stdout",
     "output_type": "stream",
     "text": [
      "Precision: 0.673469387755102\n"
     ]
    }
   ],
   "source": [
    "from sklearn.metrics import precision_score\n",
    "\n",
    "# Assuming you have the test labels (y_test) and the predicted labels (y_pred) from the previous code\n",
    "\n",
    "# Calculate precision with pos_label='Yes'\n",
    "precision = precision_score(y_test, y_pred, pos_label='Yes')\n",
    "\n",
    "print(\"Precision:\", precision)\n"
   ]
  },
  {
   "cell_type": "code",
   "execution_count": 57,
   "id": "3f7a1dc4",
   "metadata": {},
   "outputs": [
    {
     "name": "stdout",
     "output_type": "stream",
     "text": [
      "Recall: 0.7021276595744681\n"
     ]
    }
   ],
   "source": [
    "from sklearn.metrics import recall_score\n",
    "\n",
    "# Assuming you have the test labels (y_test) and the predicted labels (y_pred) from the decision tree model\n",
    "\n",
    "# Calculate recall with pos_label='Yes'\n",
    "recall = recall_score(y_test, y_pred, pos_label='Yes')\n",
    "\n",
    "print(\"Recall:\", recall)\n"
   ]
  },
  {
   "cell_type": "code",
   "execution_count": 59,
   "id": "2eed1f9f",
   "metadata": {},
   "outputs": [
    {
     "name": "stdout",
     "output_type": "stream",
     "text": [
      "F1 Score: 0.6875000000000001\n"
     ]
    }
   ],
   "source": [
    "# Calculate F1 score with pos_label='Yes'\n",
    "from sklearn.metrics import precision_score, recall_score, f1_score\n",
    "# Calculate F1 score\n",
    "f1 = f1_score(y_test, y_pred, pos_label='Yes')\n",
    "print(\"F1 Score:\", f1)"
   ]
  },
  {
   "cell_type": "code",
   "execution_count": null,
   "id": "6f405518",
   "metadata": {},
   "outputs": [],
   "source": []
  }
 ],
 "metadata": {
  "kernelspec": {
   "display_name": "Python 3 (ipykernel)",
   "language": "python",
   "name": "python3"
  },
  "language_info": {
   "codemirror_mode": {
    "name": "ipython",
    "version": 3
   },
   "file_extension": ".py",
   "mimetype": "text/x-python",
   "name": "python",
   "nbconvert_exporter": "python",
   "pygments_lexer": "ipython3",
   "version": "3.9.13"
  }
 },
 "nbformat": 4,
 "nbformat_minor": 5
}
